{
 "cells": [
  {
   "cell_type": "code",
   "execution_count": 1,
   "outputs": [
    {
     "name": "stdout",
     "output_type": "stream",
     "text": [
      "cuda\n",
      "11.3\n",
      "verbatlas scraped\n",
      "cuda\n",
      "11.3\n"
     ]
    },
    {
     "name": "stderr",
     "output_type": "stream",
     "text": [
      "[nltk_data] Downloading package averaged_perceptron_tagger to\n",
      "[nltk_data]     /home/michele/nltk_data...\n",
      "[nltk_data]   Package averaged_perceptron_tagger is already up-to-\n",
      "[nltk_data]       date!\n",
      "[nltk_data] Downloading package tagsets to /home/michele/nltk_data...\n",
      "[nltk_data]   Package tagsets is already up-to-date!\n",
      "[nltk_data] Downloading package averaged_perceptron_tagger to\n",
      "[nltk_data]     /home/michele/nltk_data...\n",
      "[nltk_data]   Package averaged_perceptron_tagger is already up-to-\n",
      "[nltk_data]       date!\n"
     ]
    }
   ],
   "source": [
    "import json\n",
    "import pytorch_lightning as pl\n",
    "\n",
    "\n",
    "\n",
    "from model_AB import *\n",
    "from model_CD import *\n",
    "\n",
    "device = torch.device(\"cuda\" if torch.cuda.is_available() else \"cpu\")\n",
    "PAD_TOKEN = '<pad>'\n",
    "EN_TRAIN_PATH = \"./../../data/EN/train.json\"\n",
    "EN_DEV_PATH = \"./../../data/EN/dev.json\"\n",
    "BERT_PATH = \"./../../model/bert-base-cased\"\n",
    "#BERT_PATH = \"./model/bert-base-cased\"\n",
    "VERBATLAS_PATH = \"./VerbAtlas/VerbAtlas\""
   ],
   "metadata": {
    "collapsed": false,
    "pycharm": {
     "name": "#%%\n"
    }
   }
  },
  {
   "cell_type": "code",
   "execution_count": 2,
   "outputs": [],
   "source": [
    "def read_dataset(path: str):\n",
    "    with open(path) as f:\n",
    "        dataset = json.load(f)\n",
    "\n",
    "    sentences, labels = {}, {}\n",
    "    for sentence_id, sentence in dataset.items():\n",
    "        sentence_id = sentence_id\n",
    "        sentences[sentence_id] = {\n",
    "            \"words\": sentence[\"words\"],\n",
    "            \"lemmas\": sentence[\"lemmas\"],\n",
    "            \"pos_tags\": sentence[\"pos_tags\"],\n",
    "            \"dependency_heads\": [int(head) for head in sentence[\"dependency_heads\"]],\n",
    "            \"dependency_relations\": sentence[\"dependency_relations\"],\n",
    "            \"predicates\": sentence[\"predicates\"],\n",
    "        }\n",
    "\n",
    "        labels[sentence_id] = {\n",
    "            \"predicates\": sentence[\"predicates\"],\n",
    "            \"roles\": {int(p): r for p, r in sentence[\"roles\"].items()}\n",
    "            if \"roles\" in sentence\n",
    "            else dict(),\n",
    "        }\n",
    "\n",
    "    return sentences, labels"
   ],
   "metadata": {
    "collapsed": false,
    "pycharm": {
     "name": "#%%\n"
    }
   }
  },
  {
   "cell_type": "code",
   "execution_count": null,
   "metadata": {
    "collapsed": true,
    "pycharm": {
     "is_executing": true
    }
   },
   "outputs": [
    {
     "name": "stdout",
     "output_type": "stream",
     "text": [
      "NUM_CLASSES  434\n"
     ]
    },
    {
     "name": "stderr",
     "output_type": "stream",
     "text": [
      "Some weights of the model checkpoint at ./../../model/bert-base-cased were not used when initializing BertModel: ['cls.predictions.transform.LayerNorm.bias', 'cls.predictions.bias', 'cls.predictions.decoder.weight', 'cls.seq_relationship.weight', 'cls.seq_relationship.bias', 'cls.predictions.transform.LayerNorm.weight', 'cls.predictions.transform.dense.weight', 'cls.predictions.transform.dense.bias']\n",
      "- This IS expected if you are initializing BertModel from the checkpoint of a model trained on another task or with another architecture (e.g. initializing a BertForSequenceClassification model from a BertForPreTraining model).\n",
      "- This IS NOT expected if you are initializing BertModel from the checkpoint of a model that you expect to be exactly identical (initializing a BertForSequenceClassification model from a BertForSequenceClassification model).\n",
      "Some weights of BertModel were not initialized from the model checkpoint at ./../../model/bert-base-cased and are newly initialized: ['bert.encoder.layer.10.crossattention.output.dense.weight', 'bert.encoder.layer.6.crossattention.output.LayerNorm.bias', 'bert.encoder.layer.1.crossattention.self.query.weight', 'bert.encoder.layer.1.crossattention.output.dense.bias', 'bert.encoder.layer.5.crossattention.self.key.weight', 'bert.encoder.layer.11.crossattention.self.value.bias', 'bert.encoder.layer.0.crossattention.self.value.weight', 'bert.encoder.layer.2.crossattention.self.query.weight', 'bert.encoder.layer.7.crossattention.self.value.bias', 'bert.encoder.layer.3.crossattention.output.dense.bias', 'bert.encoder.layer.2.crossattention.self.key.bias', 'bert.encoder.layer.10.crossattention.self.query.weight', 'bert.encoder.layer.11.crossattention.output.LayerNorm.weight', 'bert.encoder.layer.6.crossattention.output.dense.bias', 'bert.encoder.layer.9.crossattention.output.dense.bias', 'bert.encoder.layer.6.crossattention.self.key.weight', 'bert.encoder.layer.6.crossattention.self.key.bias', 'bert.encoder.layer.4.crossattention.output.LayerNorm.weight', 'bert.encoder.layer.9.crossattention.self.query.weight', 'bert.encoder.layer.5.crossattention.self.key.bias', 'bert.encoder.layer.5.crossattention.output.LayerNorm.bias', 'bert.encoder.layer.1.crossattention.output.dense.weight', 'bert.encoder.layer.7.crossattention.self.key.weight', 'bert.encoder.layer.5.crossattention.output.LayerNorm.weight', 'bert.encoder.layer.2.crossattention.output.LayerNorm.bias', 'bert.encoder.layer.10.crossattention.self.key.bias', 'bert.encoder.layer.8.crossattention.output.dense.weight', 'bert.encoder.layer.1.crossattention.self.key.weight', 'bert.encoder.layer.10.crossattention.self.key.weight', 'bert.encoder.layer.11.crossattention.output.LayerNorm.bias', 'bert.encoder.layer.11.crossattention.self.value.weight', 'bert.encoder.layer.0.crossattention.self.query.bias', 'bert.encoder.layer.3.crossattention.output.dense.weight', 'bert.encoder.layer.3.crossattention.self.key.weight', 'bert.encoder.layer.2.crossattention.self.value.weight', 'bert.encoder.layer.3.crossattention.self.query.bias', 'bert.encoder.layer.8.crossattention.self.query.bias', 'bert.encoder.layer.7.crossattention.self.query.bias', 'bert.encoder.layer.3.crossattention.output.LayerNorm.bias', 'bert.encoder.layer.1.crossattention.output.LayerNorm.weight', 'bert.encoder.layer.7.crossattention.output.dense.weight', 'bert.encoder.layer.6.crossattention.self.value.bias', 'bert.encoder.layer.5.crossattention.self.query.weight', 'bert.encoder.layer.11.crossattention.self.key.bias', 'bert.encoder.layer.2.crossattention.output.LayerNorm.weight', 'bert.encoder.layer.6.crossattention.output.LayerNorm.weight', 'bert.encoder.layer.4.crossattention.output.LayerNorm.bias', 'bert.encoder.layer.0.crossattention.output.LayerNorm.weight', 'bert.encoder.layer.10.crossattention.self.value.bias', 'bert.encoder.layer.6.crossattention.self.value.weight', 'bert.encoder.layer.6.crossattention.self.query.bias', 'bert.encoder.layer.0.crossattention.output.LayerNorm.bias', 'bert.encoder.layer.1.crossattention.output.LayerNorm.bias', 'bert.encoder.layer.11.crossattention.self.key.weight', 'bert.encoder.layer.3.crossattention.self.key.bias', 'bert.encoder.layer.11.crossattention.output.dense.weight', 'bert.encoder.layer.10.crossattention.output.LayerNorm.bias', 'bert.encoder.layer.3.crossattention.self.query.weight', 'bert.encoder.layer.9.crossattention.self.query.bias', 'bert.encoder.layer.8.crossattention.self.value.bias', 'bert.encoder.layer.7.crossattention.self.query.weight', 'bert.encoder.layer.10.crossattention.output.dense.bias', 'bert.encoder.layer.10.crossattention.output.LayerNorm.weight', 'bert.encoder.layer.8.crossattention.output.LayerNorm.weight', 'bert.encoder.layer.4.crossattention.output.dense.weight', 'bert.encoder.layer.8.crossattention.output.dense.bias', 'bert.encoder.layer.8.crossattention.self.key.bias', 'bert.encoder.layer.2.crossattention.self.key.weight', 'bert.encoder.layer.7.crossattention.self.value.weight', 'bert.encoder.layer.4.crossattention.self.value.weight', 'bert.encoder.layer.11.crossattention.output.dense.bias', 'bert.encoder.layer.11.crossattention.self.query.weight', 'bert.encoder.layer.2.crossattention.output.dense.bias', 'bert.encoder.layer.7.crossattention.output.dense.bias', 'bert.encoder.layer.7.crossattention.output.LayerNorm.bias', 'bert.encoder.layer.9.crossattention.output.LayerNorm.weight', 'bert.encoder.layer.0.crossattention.output.dense.weight', 'bert.encoder.layer.4.crossattention.self.value.bias', 'bert.encoder.layer.5.crossattention.self.value.weight', 'bert.encoder.layer.0.crossattention.self.query.weight', 'bert.encoder.layer.5.crossattention.self.query.bias', 'bert.encoder.layer.1.crossattention.self.query.bias', 'bert.encoder.layer.2.crossattention.self.query.bias', 'bert.encoder.layer.10.crossattention.self.value.weight', 'bert.encoder.layer.3.crossattention.self.value.bias', 'bert.encoder.layer.4.crossattention.self.query.bias', 'bert.encoder.layer.1.crossattention.self.value.bias', 'bert.encoder.layer.9.crossattention.output.dense.weight', 'bert.encoder.layer.4.crossattention.self.key.weight', 'bert.encoder.layer.1.crossattention.self.value.weight', 'bert.encoder.layer.7.crossattention.self.key.bias', 'bert.encoder.layer.3.crossattention.output.LayerNorm.weight', 'bert.encoder.layer.9.crossattention.self.key.weight', 'bert.encoder.layer.8.crossattention.self.value.weight', 'bert.encoder.layer.10.crossattention.self.query.bias', 'bert.encoder.layer.5.crossattention.output.dense.weight', 'bert.encoder.layer.9.crossattention.self.value.weight', 'bert.encoder.layer.0.crossattention.self.key.weight', 'bert.encoder.layer.3.crossattention.self.value.weight', 'bert.encoder.layer.1.crossattention.self.key.bias', 'bert.encoder.layer.4.crossattention.output.dense.bias', 'bert.encoder.layer.4.crossattention.self.query.weight', 'bert.encoder.layer.8.crossattention.self.key.weight', 'bert.encoder.layer.7.crossattention.output.LayerNorm.weight', 'bert.encoder.layer.5.crossattention.self.value.bias', 'bert.encoder.layer.6.crossattention.output.dense.weight', 'bert.encoder.layer.0.crossattention.self.value.bias', 'bert.encoder.layer.4.crossattention.self.key.bias', 'bert.encoder.layer.2.crossattention.output.dense.weight', 'bert.encoder.layer.5.crossattention.output.dense.bias', 'bert.encoder.layer.0.crossattention.self.key.bias', 'bert.encoder.layer.9.crossattention.self.value.bias', 'bert.encoder.layer.2.crossattention.self.value.bias', 'bert.encoder.layer.6.crossattention.self.query.weight', 'bert.encoder.layer.8.crossattention.self.query.weight', 'bert.encoder.layer.9.crossattention.self.key.bias', 'bert.encoder.layer.8.crossattention.output.LayerNorm.bias', 'bert.encoder.layer.0.crossattention.output.dense.bias', 'bert.encoder.layer.9.crossattention.output.LayerNorm.bias', 'bert.encoder.layer.11.crossattention.self.query.bias']\n",
      "You should probably TRAIN this model on a down-stream task to be able to use it for predictions and inference.\n",
      "GPU available: True, used: True\n",
      "TPU available: False, using: 0 TPU cores\n",
      "IPU available: False, using: 0 IPUs\n",
      "LOCAL_RANK: 0 - CUDA_VISIBLE_DEVICES: [0]\n",
      "\n",
      "  | Name       | Type             | Params\n",
      "------------------------------------------------\n",
      "0 | classifier | Sequential       | 924 K \n",
      "1 | loss_fn    | CrossEntropyLoss | 0     \n",
      "2 | f1         | F1Score          | 0     \n",
      "3 | bert       | BertModel        | 136 M \n",
      "4 | lstm       | LSTM             | 4.7 M \n",
      "------------------------------------------------\n",
      "142 M     Trainable params\n",
      "0         Non-trainable params\n",
      "142 M     Total params\n",
      "569.305   Total estimated model params size (MB)\n"
     ]
    },
    {
     "data": {
      "text/plain": "Validation sanity check: 0it [00:00, ?it/s]",
      "application/vnd.jupyter.widget-view+json": {
       "version_major": 2,
       "version_minor": 0,
       "model_id": "a628cac4160e44f8a8d98285ab1eaf5d"
      }
     },
     "metadata": {},
     "output_type": "display_data"
    },
    {
     "name": "stderr",
     "output_type": "stream",
     "text": [
      "/home/michele/anaconda3/envs/nlp2022-hw2/lib/python3.9/site-packages/pytorch_lightning/trainer/data_loading.py:132: UserWarning: The dataloader, val_dataloader 0, does not have many workers which may be a bottleneck. Consider increasing the value of the `num_workers` argument` (try 12 which is the number of cpus on this machine) in the `DataLoader` init to improve performance.\n",
      "  rank_zero_warn(\n",
      "/home/michele/anaconda3/envs/nlp2022-hw2/lib/python3.9/site-packages/pytorch_lightning/utilities/data.py:59: UserWarning: Trying to infer the `batch_size` from an ambiguous collection. The batch size we found is 32. To avoid any miscalculations, use `self.log(..., batch_size=batch_size)`.\n",
      "  warning_cache.warn(\n",
      "/home/michele/anaconda3/envs/nlp2022-hw2/lib/python3.9/site-packages/pytorch_lightning/trainer/data_loading.py:132: UserWarning: The dataloader, train_dataloader, does not have many workers which may be a bottleneck. Consider increasing the value of the `num_workers` argument` (try 12 which is the number of cpus on this machine) in the `DataLoader` init to improve performance.\n",
      "  rank_zero_warn(\n"
     ]
    },
    {
     "data": {
      "text/plain": "Training: 0it [00:00, ?it/s]",
      "application/vnd.jupyter.widget-view+json": {
       "version_major": 2,
       "version_minor": 0,
       "model_id": "21253e19bdeb4650afaaec085c62d4f0"
      }
     },
     "metadata": {},
     "output_type": "display_data"
    }
   ],
   "source": [
    "#'''\n",
    "early_stopping = pl.callbacks.EarlyStopping(\n",
    "    monitor='val_f1',  # the value that will be evaluated to activate the early stopping of the model.\n",
    "    patience=5,\n",
    "    # the number of consecutive attempts that the model has to raise (or lower depending on the metric used) to raise the \"monitor\" value.\n",
    "    verbose=True,  # whether to log or not information in the console.\n",
    "    mode='max',  # wheter we want to maximize (max) or minimize the \"monitor\" value.\n",
    ")\n",
    "\n",
    "check_point_callback = pl.callbacks.ModelCheckpoint(\n",
    "    monitor='val_f1',  # the value that we want to use for model selection.\n",
    "    verbose=True,  # whether to log or not information in the console.\n",
    "    save_top_k=1,  # the number of checkpoints we want to store.\n",
    "    mode='max',  # wheter we want to maximize (max) or minimize the \"monitor\" value.\n",
    "    filename='modelAB_{epoch}-{val_f1:.4f}'\n",
    "    # the prefix on the checkpoint values. Metrics store by the trainer can be used to dynamically change the name.\n",
    ")\n",
    "\n",
    "sentences_dm = PredicatesDataModule(\n",
    "    data_train_path=EN_TRAIN_PATH,\n",
    "    data_dev_path=EN_DEV_PATH,\n",
    "    data_test_path=EN_DEV_PATH,\n",
    "    batch_size=32\n",
    ")\n",
    "\n",
    "classifier = AB_Model(num_classes=len(frame2id)+2,language=\"en\", hidden1=768, lstm_layers=1, bidirectional=False, p=0.5).to(device)\n",
    "\n",
    "# the PyTorch Lightning Trainer\n",
    "trainer = pl.Trainer(\n",
    "    max_epochs=10,  # maximum number of epochs.\n",
    "    gpus=1,  # the number of gpus we have at our disposal.\n",
    "    callbacks=[early_stopping, check_point_callback]  # the callback we want our trainer to use.\n",
    ")\n",
    "\n",
    "# and finally we can let the \"trainer\" fit the amazon reviews classifier.\n",
    "trainer.fit(model=classifier, datamodule=sentences_dm)\n",
    "\n",
    "model_path = \"../../model/modelAB.ckpt\"\n",
    "#classifier = AB_Model.load_from_checkpoint(model_path,num_classes=len(frame2id)+2 , language=\"en\").to(device)\n",
    "\n",
    "\n",
    "\n",
    "\n",
    "sentences, labels = read_dataset(EN_DEV_PATH)\n",
    "\n",
    "for idx, key in enumerate(sentences):\n",
    "    prediction = classifier.predict(sentences[key])\n",
    "    lab = labels[key][\"predicates\"]\n",
    "    print(\"PREDICTED\", len(prediction), prediction)\n",
    "    print(\"GROUND TRUTH\", len(lab), lab)"
   ]
  },
  {
   "cell_type": "code",
   "execution_count": null,
   "outputs": [],
   "source": [
    "#'''\n",
    "early_stopping = pl.callbacks.EarlyStopping(\n",
    "    monitor='val_f1',  # the value that will be evaluated to activate the early stopping of the model.\n",
    "    patience=5,\n",
    "    # the number of consecutive attempts that the model has to raise (or lower depending on the metric used) to raise the \"monitor\" value.\n",
    "    verbose=True,  # whether to log or not information in the console.\n",
    "    mode='max',  # wheter we want to maximize (max) or minimize the \"monitor\" value.\n",
    ")\n",
    "\n",
    "check_point_callback = pl.callbacks.ModelCheckpoint(\n",
    "    monitor='val_f1',  # the value that we want to use for model selection.\n",
    "    verbose=True,  # whether to log or not information in the console.\n",
    "    save_top_k=1,  # the number of checkpoints we want to store.\n",
    "    mode='max',  # wheter we want to maximize (max) or minimize the \"monitor\" value.\n",
    "    filename='modelAB_{epoch}-{val_f1:.4f}'\n",
    "    # the prefix on the checkpoint values. Metrics store by the trainer can be used to dynamically change the name.\n",
    ")\n",
    "\n",
    "sentences_dm = PredicatesDataModule(\n",
    "    data_train_path=EN_TRAIN_PATH,\n",
    "    data_dev_path=EN_DEV_PATH,\n",
    "    data_test_path=EN_DEV_PATH,\n",
    "    batch_size=32\n",
    ")\n",
    "\n",
    "classifier = AB_Model(num_classes=len(frame2id)+2,language=\"en\", hidden1=768, lstm_layers=1, bidirectional=False, p=0.).to(device)\n",
    "\n",
    "# the PyTorch Lightning Trainer\n",
    "trainer = pl.Trainer(\n",
    "    max_epochs=1,  # maximum number of epochs.\n",
    "    gpus=1,  # the number of gpus we have at our disposal.\n",
    "    callbacks=[early_stopping, check_point_callback]  # the callback we want our trainer to use.\n",
    ")\n",
    "\n",
    "# and finally we can let the \"trainer\" fit the amazon reviews classifier.\n",
    "trainer.fit(model=classifier, datamodule=sentences_dm)\n",
    "\n",
    "model_path = \"../../model/modelAB.ckpt\"\n",
    "#classifier = AB_Model.load_from_checkpoint(model_path,num_classes=len(frame2id)+2 , language=\"en\").to(device)\n",
    "\n",
    "\n",
    "\n",
    "\n",
    "\n",
    "sentences, labels = read_dataset(EN_DEV_PATH)\n",
    "\n",
    "for idx, key in enumerate(sentences):\n",
    "    prediction = classifier.predict(sentences[key])\n",
    "    lab = labels[key][\"predicates\"]\n",
    "    print(\"PREDICTED\", len(prediction), prediction)\n",
    "    print(\"GROUND TRUTH\", len(lab), lab)\n",
    "#'''"
   ],
   "metadata": {
    "collapsed": false,
    "pycharm": {
     "name": "#%%\n"
    }
   }
  }
 ],
 "metadata": {
  "kernelspec": {
   "display_name": "Python 3",
   "language": "python",
   "name": "python3"
  },
  "language_info": {
   "codemirror_mode": {
    "name": "ipython",
    "version": 2
   },
   "file_extension": ".py",
   "mimetype": "text/x-python",
   "name": "python",
   "nbconvert_exporter": "python",
   "pygments_lexer": "ipython2",
   "version": "2.7.6"
  }
 },
 "nbformat": 4,
 "nbformat_minor": 0
}